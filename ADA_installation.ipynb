{
 "cells": [
  {
   "cell_type": "markdown",
   "metadata": {},
   "source": [
    "# ADA installation\n",
    "\n",
    "## 1. Install anaconda\n",
    "\n",
    "You can download Anaconda at _https://www.anaconda.com/download_. Skip the registration, because this is not necessary.\n",
    "\n",
    "You can install Anaconda like any other program. If you need further information, you can follow the Anaconda installation instructions\n",
    "- for Windows: https://docs.anaconda.com/free/anaconda/install/windows/\n",
    "- for Mac: https://docs.anaconda.com/free/anaconda/install/mac-os/\n",
    "- for Linux: https://docs.anaconda.com/free/anaconda/install/linux/\n",
    "\n",
    "You can verify if Anaconda was succesfully installed, if you open the Terminal (Linux, Mac) and see _base_ or _(base)_ in the first line of your terminal. In Linux (Manjaro here), it should look like:"
   ]
  },
  {
   "cell_type": "markdown",
   "metadata": {},
   "source": [
    "![title](imgs/Screenshot_linux_terminal.png)"
   ]
  },
  {
   "cell_type": "markdown",
   "metadata": {},
   "source": [
    "and the terminal in Mac should look like this:"
   ]
  },
  {
   "cell_type": "markdown",
   "metadata": {},
   "source": [
    "![title](imgs/Screenshot_mac_terminal.png)"
   ]
  },
  {
   "cell_type": "markdown",
   "metadata": {},
   "source": [
    "If you use windows, you can enter \"Anaconda prompt\" in the search bar and you can open an anaconda terminal then:"
   ]
  },
  {
   "cell_type": "markdown",
   "metadata": {},
   "source": []
  },
  {
   "cell_type": "markdown",
   "metadata": {},
   "source": []
  },
  {
   "cell_type": "markdown",
   "metadata": {},
   "source": [
    "## 2. Get a copy of ADA\n",
    "\n",
    "You can download a copy of ADA on _https://github.com/phbuech/adatool_. Click on the button _<> Code_ and download a ZIP file:\n",
    "\n",
    "![title](imgs/Screenshot_ADA_download.png)"
   ]
  },
  {
   "cell_type": "markdown",
   "metadata": {},
   "source": [
    "Unpack the zip file and move it to the bin/trash."
   ]
  },
  {
   "cell_type": "markdown",
   "metadata": {},
   "source": [
    "## 3. Install dependencies\n",
    "\n",
    "In the _adatool-main_ folder you will find a subfolder called _installation\\_scripts_. You will find three installation scripts for different operation systems:\n",
    "- for Mac: install_ADA_MacOS.command\n",
    "- for Windows: Windows_install_ADA.bat\n",
    "- for Linux: Linux_install_ADA.sh (maybe broken atm)\n",
    "\n",
    "The procedures are explained in the following sections by operating system\n",
    "\n",
    "### 3.1 Installation on Mac\n",
    "\n",
    "Use the install_ADA_MacOS.command file for the installation on MacOS. A direct click on the script will not work, so it is necessary to open the dialog first and then click on _Open_:\n",
    "\n",
    "![title](imgs/Screenshot_mac_installation_1.png)\n",
    "\n",
    "A dialog window will appear:"
   ]
  },
  {
   "cell_type": "markdown",
   "metadata": {},
   "source": [
    "![title](imgs/Screenshot_mac_installation_2.png)"
   ]
  },
  {
   "cell_type": "markdown",
   "metadata": {},
   "source": [
    "Click on _Open_.\n",
    "A terminal will open where you have to enter _yes_. The installation is done automatically.\n",
    "It may be necessary to run the script two times."
   ]
  },
  {
   "cell_type": "markdown",
   "metadata": {},
   "source": [
    "### 3.2 Installation on Windows"
   ]
  },
  {
   "cell_type": "markdown",
   "metadata": {},
   "source": [
    "### 3.3 Manual installation\n",
    "\n",
    "If a manual installation is required, you can do this by opening the terminal (Anaconda prompt in Windows) and enter the following commands:\n",
    "1) conda create --name env ada_env Python=3.10\n",
    "2) conda install -c conda-forge mamba (this step is NOT necessary. mamba is an alternative package manager and is faster than the standard conda)\n",
    "\n",
    "When this is done, you will find a _requirements.txt_ in the installation_scripts folder within adatool-main. This file includes the dependencies that have to be installed. Activate first the ada_env by entering the command:\n",
    "3) conda activate ada_env\n",
    "The install the requirements with\n",
    "4) pip3 install -r /path/to/adatool-main/installation_scripts/requirements.txt\n",
    "\n",
    "The requirements are now installed."
   ]
  },
  {
   "cell_type": "markdown",
   "metadata": {},
   "source": [
    "### 4. Run ADA\n",
    "\n",
    "You can run now ADA by clicking one of the run_ADA scripts in adatool-main. These are, again, separated by the different operating systems:\n",
    "- for Mac: run_ADA_MacOS.command\n",
    "- for Windows: run_ADA_windows.bat\n",
    "- for Linux: run_ADA_linux.sh (maybe broken)\n",
    "\n",
    "If you use Mac, you have to open the dropdown menu (like in 3.1), click on _Open_, and in the following window again on _Open_ when you run ADA the first time on your machine.\n",
    "\n",
    "Alternatively, if you want to start the program manually, you have to open the terminal (Anaconda prompt in Windows) and activate the anaconda environment first:\n",
    "1) conda activate ada_env\n",
    "Then you have to run the python file _main.py_ in the src subfolder in adatoolo-main:\n",
    "2) python /path/to/adatool-main/src/main.py\n",
    "\n",
    "You should see the main window of ADA now:"
   ]
  },
  {
   "cell_type": "markdown",
   "metadata": {},
   "source": [
    "![title](imgs/Screenshot_open_ADA_on_mac.png)"
   ]
  },
  {
   "cell_type": "code",
   "execution_count": null,
   "metadata": {},
   "outputs": [],
   "source": []
  }
 ],
 "metadata": {
  "kernelspec": {
   "display_name": "Python 3 (ipykernel)",
   "language": "python",
   "name": "python3"
  },
  "language_info": {
   "codemirror_mode": {
    "name": "ipython",
    "version": 3
   },
   "file_extension": ".py",
   "mimetype": "text/x-python",
   "name": "python",
   "nbconvert_exporter": "python",
   "pygments_lexer": "ipython3",
   "version": "3.10.14"
  }
 },
 "nbformat": 4,
 "nbformat_minor": 4
}
